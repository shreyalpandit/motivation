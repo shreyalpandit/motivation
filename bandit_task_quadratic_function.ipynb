{
  "nbformat": 4,
  "nbformat_minor": 0,
  "metadata": {
    "colab": {
      "provenance": [],
      "collapsed_sections": [],
      "authorship_tag": "ABX9TyNyLTFB0BDQp6E62/c4LXKo"
    },
    "kernelspec": {
      "name": "python3",
      "display_name": "Python 3"
    },
    "language_info": {
      "name": "python"
    }
  },
  "cells": [
    {
      "cell_type": "code",
      "metadata": {
        "id": "eEx9WsffGRfV"
      },
      "source": [
        "import numpy as np\n",
        "import random\n",
        "import matplotlib.pyplot as plt\n",
        "from google.colab import files"
      ],
      "execution_count": 1,
      "outputs": []
    },
    {
      "cell_type": "code",
      "metadata": {
        "id": "OkgVhadO-oXG"
      },
      "source": [
        "episodes = 100\n",
        "max_steps = 100\n",
        "n_state = 50\n",
        "m_lr = 0.6\n",
        "r_lr = 0.6\n",
        "r_eps = 0.1\n",
        "num_zero = n_state//2"
      ],
      "execution_count": 68,
      "outputs": []
    },
    {
      "cell_type": "code",
      "metadata": {
        "id": "nMCGf-O9RjcT"
      },
      "source": [
        "def random_quadratic(r):\n",
        "  i = random.uniform(5,10)\n",
        "  j = 1\n",
        "  a = (r - j)/(1-i)**2\n",
        "  funk = lambda x : a*(x - i)**2 + j\n",
        "  return funk\n",
        "\n",
        "# f = random_quadratic(0.1)\n",
        "# for i in range(10):\n",
        "#   print(f(i))"
      ],
      "execution_count": 69,
      "outputs": []
    },
    {
      "cell_type": "code",
      "metadata": {
        "id": "jobNrTaWX3rm"
      },
      "source": [
        "class Env():\n",
        "  def __init__(self, n_state):\n",
        "    self.n_state = n_state\n",
        "    self.state = np.random.choice(n_state)\n",
        "    self.previous_state = None\n",
        "    self.freq = [0]*self.n_state\n",
        "\n",
        "    \n",
        "    n_z = int(num_zero * n_state)\n",
        "    # print(n_z, num_zero, n_state)\n",
        "\n",
        "    self.initial_reward = [random_quadratic(random.random() * 0.1) for i in range(self.n_state - n_z)] + \\\n",
        "                          [lambda x : 0 for i in range(n_z)]\n",
        "\n",
        "    # for i in self.initial_reward:\n",
        "    #   print(i(1))\n",
        "    # print(self.initial_reward)\n",
        "  def reward_func(self, state):\n",
        "    self.freq[self.state] += 1\n",
        "    if self.state != self.previous_state:\n",
        "      self.freq[self.previous_state] = 0\n",
        "    y = self.initial_reward[state](self.freq[self.state])\n",
        "    \n",
        "    return y\n",
        "\n",
        "  def step(self, action):\n",
        "    self.previous_state = self.state\n",
        "    self.state = action\n",
        "    ob = self.state\n",
        "    reward = self.reward_func(self.state)\n",
        "    return ob, reward  "
      ],
      "execution_count": 76,
      "outputs": []
    },
    {
      "cell_type": "code",
      "metadata": {
        "id": "P_3Rsyp41uCF"
      },
      "source": [
        "class QLearner():\n",
        "  def __init__(self, n_action, lr=0.1):\n",
        "    self.n_action = n_action\n",
        "    self.q_values = np.random.randn(n_action)*0.01\n",
        "    self.lr = lr\n",
        "\n",
        "    def act(self):\n",
        "      pass\n",
        "    \n",
        "    def learn(self, action, reward):\n",
        "      pass\n"
      ],
      "execution_count": 31,
      "outputs": []
    },
    {
      "cell_type": "code",
      "metadata": {
        "id": "gzqzcMO5Ytyq"
      },
      "source": [
        "class MotivatedAgent(QLearner):\n",
        "    def __init__(self, n_action, lr=0.1):\n",
        "      QLearner.__init__(self, n_action, lr)\n",
        "      self.reward_threshold = 0\n",
        "      self.previous_reward = -float('inf')\n",
        "      self.previous_action = None\n",
        "\n",
        "    def act(self):\n",
        "      if self.previous_reward > self.reward_threshold:\n",
        "        action = self.previous_action\n",
        "      else:\n",
        "        action = np.random.choice(self.n_action)\n",
        "      return action\n",
        "\n",
        "    def learn(self, action, reward):\n",
        "      self.previous_action = action\n",
        "      self.previous_reward = reward\n",
        "      self.q_values[action] = (1-self.lr)*self.q_values[action] + self.lr*reward\n"
      ],
      "execution_count": 32,
      "outputs": []
    },
    {
      "cell_type": "code",
      "metadata": {
        "id": "vqFQR-yoFelY"
      },
      "source": [
        "class LearningAgent(QLearner):\n",
        "    def __init__(self, n_action, lr=0.1, eps=0.5):\n",
        "      QLearner.__init__(self, n_action, lr)\n",
        "      self.eps = eps\n",
        "      # print(self.q_values)\n",
        "      \n",
        "    def act(self):\n",
        "      if np.random.rand() < self.eps:\n",
        "        action = np.random.choice(self.n_action)\n",
        "      else:\n",
        "        action = np.argmax(self.q_values)\n",
        "      return action\n",
        "\n",
        "    def learn(self, action, reward):\n",
        "      self.q_values[action] = (1-self.lr)*self.q_values[action] + self.lr*reward"
      ],
      "execution_count": 33,
      "outputs": []
    },
    {
      "cell_type": "code",
      "metadata": {
        "id": "M7q6PCMfXZAK"
      },
      "source": [
        "def run_one_agent(agent, max_steps, n_state, title):\n",
        "  env = Env(n_state)\n",
        "  rewards = list()\n",
        "  states = list()\n",
        "  state_prob = np.zeros(n_state)\n",
        "  q_val_matrix = np.zeros((n_state, max_steps))\n",
        "\n",
        "  for i in range(max_steps):\n",
        "    action = agent.act()\n",
        "    states.append(action)\n",
        "    state_prob[action] += 1\n",
        "    ob, reward = env.step(action)\n",
        "    agent.learn(action, reward)\n",
        "    q_val_matrix[:,i] = agent.q_values\n",
        "\n",
        "    rewards.append(reward)\n",
        "\n",
        "    # plt.plot(rewards, color=\"#FFD700\")\n",
        "    # plt.xlim([0, max_steps])\n",
        "    \n",
        "    # plt.xlabel('Steps')\n",
        "    # plt.ylabel('Reward')\n",
        "\n",
        "    \n",
        "    # plt.savefig(str(i) + title + \".png\")\n",
        "    # files.download(str(i) + title + \".png\")\n",
        "    # print(str(i) + title + \".png\")\n",
        "    \n",
        "  return rewards, state_prob/max_steps, q_val_matrix, states"
      ],
      "execution_count": 53,
      "outputs": []
    },
    {
      "cell_type": "code",
      "metadata": {
        "id": "nwrV69aTbShD"
      },
      "source": [
        "def run_multiple_agents():\n",
        "  m_rewards_all = list()\n",
        "  r_rewards_all = list()\n",
        "\n",
        "  m_state_prob_all = list()\n",
        "  r_state_prob_all = list()\n",
        "  \n",
        "  for i in range(episodes):\n",
        "    motivated_agent = MotivatedAgent(n_action=n_state, lr=m_lr)\n",
        "    m_reward, m_state_prob, m_q_val_matrix, m_states = run_one_agent(motivated_agent, max_steps, n_state, \"motivated\")\n",
        "    m_rewards_all.append(m_reward)\n",
        "    m_state_prob_all.append(m_state_prob)\n",
        "\n",
        "    learning_agent = LearningAgent(n_action=n_state, lr=r_lr, eps=r_eps)\n",
        "    r_reward, r_state_prob, r_q_val_matrix, r_states = run_one_agent(learning_agent, max_steps,n_state, \"learning\")\n",
        "    r_rewards_all.append(r_reward)\n",
        "    r_state_prob_all.append(r_state_prob)\n",
        "\n",
        "  m_rewards_all = np.array(m_rewards_all)\n",
        "  r_rewards_all = np.array(r_rewards_all)\n",
        "\n",
        "  m_state_prob_all = np.array(m_state_prob_all)\n",
        "  r_state_prob_all = np.array(r_state_prob_all)\n",
        "\n",
        "  r_q_val_matrix = np.zeros((n_state, max_steps))\n",
        "  r_states = list()\n",
        "\n",
        "  return m_rewards_all, r_rewards_all, m_state_prob_all, r_state_prob_all, m_q_val_matrix, r_q_val_matrix, m_states, r_states"
      ],
      "execution_count": 72,
      "outputs": []
    },
    {
      "cell_type": "code",
      "metadata": {
        "id": "YDSKkzsgbeq3",
        "colab": {
          "base_uri": "https://localhost:8080/"
        },
        "outputId": "7874ab61-24d1-44c8-f4e1-499b8c6a5571"
      },
      "source": [
        "m_rewards_all, r_rewards_all, m_state_prob, r_state_prob, m_q_val_matrix, r_q_val_matrix, m_states, r_states  = run_multiple_agents()"
      ],
      "execution_count": 74,
      "outputs": [
        {
          "output_type": "stream",
          "name": "stdout",
          "text": [
            "1250 25 50\n",
            "1250 25 50\n",
            "1250 25 50\n",
            "1250 25 50\n",
            "1250 25 50\n",
            "1250 25 50\n",
            "1250 25 50\n",
            "1250 25 50\n",
            "1250 25 50\n",
            "1250 25 50\n",
            "1250 25 50\n",
            "1250 25 50\n",
            "1250 25 50\n",
            "1250 25 50\n",
            "1250 25 50\n",
            "1250 25 50\n",
            "1250 25 50\n",
            "1250 25 50\n",
            "1250 25 50\n",
            "1250 25 50\n",
            "1250 25 50\n",
            "1250 25 50\n",
            "1250 25 50\n",
            "1250 25 50\n",
            "1250 25 50\n",
            "1250 25 50\n",
            "1250 25 50\n",
            "1250 25 50\n",
            "1250 25 50\n",
            "1250 25 50\n",
            "1250 25 50\n",
            "1250 25 50\n",
            "1250 25 50\n",
            "1250 25 50\n",
            "1250 25 50\n",
            "1250 25 50\n",
            "1250 25 50\n",
            "1250 25 50\n",
            "1250 25 50\n",
            "1250 25 50\n",
            "1250 25 50\n",
            "1250 25 50\n",
            "1250 25 50\n",
            "1250 25 50\n",
            "1250 25 50\n",
            "1250 25 50\n",
            "1250 25 50\n",
            "1250 25 50\n",
            "1250 25 50\n",
            "1250 25 50\n",
            "1250 25 50\n",
            "1250 25 50\n",
            "1250 25 50\n",
            "1250 25 50\n",
            "1250 25 50\n",
            "1250 25 50\n",
            "1250 25 50\n",
            "1250 25 50\n",
            "1250 25 50\n",
            "1250 25 50\n",
            "1250 25 50\n",
            "1250 25 50\n",
            "1250 25 50\n",
            "1250 25 50\n",
            "1250 25 50\n",
            "1250 25 50\n",
            "1250 25 50\n",
            "1250 25 50\n",
            "1250 25 50\n",
            "1250 25 50\n",
            "1250 25 50\n",
            "1250 25 50\n",
            "1250 25 50\n",
            "1250 25 50\n",
            "1250 25 50\n",
            "1250 25 50\n",
            "1250 25 50\n",
            "1250 25 50\n",
            "1250 25 50\n",
            "1250 25 50\n",
            "1250 25 50\n",
            "1250 25 50\n",
            "1250 25 50\n",
            "1250 25 50\n",
            "1250 25 50\n",
            "1250 25 50\n",
            "1250 25 50\n",
            "1250 25 50\n",
            "1250 25 50\n",
            "1250 25 50\n",
            "1250 25 50\n",
            "1250 25 50\n",
            "1250 25 50\n",
            "1250 25 50\n",
            "1250 25 50\n",
            "1250 25 50\n",
            "1250 25 50\n",
            "1250 25 50\n",
            "1250 25 50\n",
            "1250 25 50\n",
            "1250 25 50\n",
            "1250 25 50\n",
            "1250 25 50\n",
            "1250 25 50\n",
            "1250 25 50\n",
            "1250 25 50\n",
            "1250 25 50\n",
            "1250 25 50\n",
            "1250 25 50\n",
            "1250 25 50\n",
            "1250 25 50\n",
            "1250 25 50\n",
            "1250 25 50\n",
            "1250 25 50\n",
            "1250 25 50\n",
            "1250 25 50\n",
            "1250 25 50\n",
            "1250 25 50\n",
            "1250 25 50\n",
            "1250 25 50\n",
            "1250 25 50\n",
            "1250 25 50\n",
            "1250 25 50\n",
            "1250 25 50\n",
            "1250 25 50\n",
            "1250 25 50\n",
            "1250 25 50\n",
            "1250 25 50\n",
            "1250 25 50\n",
            "1250 25 50\n",
            "1250 25 50\n",
            "1250 25 50\n",
            "1250 25 50\n",
            "1250 25 50\n",
            "1250 25 50\n",
            "1250 25 50\n",
            "1250 25 50\n",
            "1250 25 50\n",
            "1250 25 50\n",
            "1250 25 50\n",
            "1250 25 50\n",
            "1250 25 50\n",
            "1250 25 50\n",
            "1250 25 50\n",
            "1250 25 50\n",
            "1250 25 50\n",
            "1250 25 50\n",
            "1250 25 50\n",
            "1250 25 50\n",
            "1250 25 50\n",
            "1250 25 50\n",
            "1250 25 50\n",
            "1250 25 50\n",
            "1250 25 50\n",
            "1250 25 50\n",
            "1250 25 50\n",
            "1250 25 50\n",
            "1250 25 50\n",
            "1250 25 50\n",
            "1250 25 50\n",
            "1250 25 50\n",
            "1250 25 50\n",
            "1250 25 50\n",
            "1250 25 50\n",
            "1250 25 50\n",
            "1250 25 50\n",
            "1250 25 50\n",
            "1250 25 50\n",
            "1250 25 50\n",
            "1250 25 50\n",
            "1250 25 50\n",
            "1250 25 50\n",
            "1250 25 50\n",
            "1250 25 50\n",
            "1250 25 50\n",
            "1250 25 50\n",
            "1250 25 50\n",
            "1250 25 50\n",
            "1250 25 50\n",
            "1250 25 50\n",
            "1250 25 50\n",
            "1250 25 50\n",
            "1250 25 50\n",
            "1250 25 50\n",
            "1250 25 50\n",
            "1250 25 50\n",
            "1250 25 50\n",
            "1250 25 50\n",
            "1250 25 50\n",
            "1250 25 50\n",
            "1250 25 50\n",
            "1250 25 50\n",
            "1250 25 50\n",
            "1250 25 50\n",
            "1250 25 50\n",
            "1250 25 50\n",
            "1250 25 50\n",
            "1250 25 50\n",
            "1250 25 50\n",
            "1250 25 50\n"
          ]
        }
      ]
    },
    {
      "cell_type": "code",
      "metadata": {
        "id": "A1-lo0-Nbigg"
      },
      "source": [
        "m_rewards = m_rewards_all.mean(axis=0)\n",
        "r_rewards = r_rewards_all.mean(axis=0)\n",
        "m_state_prob = m_state_prob.mean(axis=0)\n",
        "r_state_prob = r_state_prob.mean(axis=0)\n",
        "\n"
      ],
      "execution_count": 59,
      "outputs": []
    },
    {
      "cell_type": "code",
      "source": [
        "zeros = [0, 0.50, 0.90]\n",
        "label = [0, 50, 90]\n",
        "c = ['g','b','r']\n",
        "from scipy.signal import savgol_filter\n",
        "for i, z in enumerate(zeros):\n",
        "  num_zero = z\n",
        "  m_rewards_all, r_rewards_all, m_state_prob, r_state_prob, m_q_val_matrix, r_q_val_matrix, m_states, r_states  = run_multiple_agents()\n",
        "\n",
        "  m_rewards = m_rewards_all.mean(axis=0)\n",
        "  r_rewards = r_rewards_all.mean(axis=0)\n",
        "  m_state_prob = m_state_prob.mean(axis=0)\n",
        "  r_state_prob = r_state_prob.mean(axis=0)\n",
        "\n",
        "  # m_rewards_smooth = savgol_filter(m_rewards, 7, 1) # window size 51, polynomial order 3\n",
        "  plt.plot(m_rewards, c[i] + '-', label='m: ' + str(label[i]) + '%')\n",
        "  # r_rewards_smooth = savgol_filter(r_rewards, 7, 1)\n",
        "  plt.plot(r_rewards, c[i] + ':', label='l: ' + str(label[i]) + '%')\n",
        "\n",
        "  plt.xlim([0, max_steps])\n",
        "  \n",
        "plt.xlabel('Steps')\n",
        "plt.ylabel('Average Reward')\n",
        "plt.legend(loc='lower center', bbox_to_anchor=(0.5, 1.05),\n",
        "          ncol=3, fancybox=True, shadow=True)\n",
        "\n",
        "  "
      ],
      "metadata": {
        "colab": {
          "base_uri": "https://localhost:8080/",
          "height": 346
        },
        "id": "YYRKO8uF94pc",
        "outputId": "5aa76c1f-ac60-4331-dca9-deaee45ff89c"
      },
      "execution_count": 78,
      "outputs": [
        {
          "output_type": "execute_result",
          "data": {
            "text/plain": [
              "<matplotlib.legend.Legend at 0x7f4050ec6d10>"
            ]
          },
          "metadata": {},
          "execution_count": 78
        },
        {
          "output_type": "display_data",
          "data": {
            "text/plain": [
              "<Figure size 432x288 with 1 Axes>"
            ],
            "image/png": "[encoded data removed]"
          },
          "metadata": {
            "needs_background": "light"
          }
        }
      ]
    },
    {
      "cell_type": "code",
      "metadata": {
        "id": "dc7IBh_gXqE3",
        "colab": {
          "base_uri": "https://localhost:8080/",
          "height": 297
        },
        "outputId": "bf2a2199-c7a9-4fe8-82e3-02c168660726"
      },
      "source": [
        "from scipy.signal import savgol_filter\n",
        "m_rewards_smooth = savgol_filter(m_rewards, 7, 1) # window size 51, polynomial order 3\n",
        "r_rewards_smooth = savgol_filter(r_rewards, 7, 1)\n",
        "plt.plot(m_rewards_smooth, label='motivated agent')\n",
        "plt.plot(r_rewards_smooth, label='rl agent')\n",
        "# plt.plot(m_rewards)\n",
        "# plt.plot(r_rewards)\n",
        "\n",
        "plt.legend()\n",
        "plt.xlabel('Steps')\n",
        "plt.ylabel('Average Reward')\n",
        "\n",
        "\n",
        "# plt.savefig(\"abc.png\")\n",
        "# files.download(\"abc.png\") "
      ],
      "execution_count": 39,
      "outputs": [
        {
          "output_type": "execute_result",
          "data": {
            "text/plain": [
              "Text(0, 0.5, 'Average Reward')"
            ]
          },
          "metadata": {},
          "execution_count": 39
        },
        {
          "output_type": "display_data",
          "data": {
            "text/plain": [
              "<Figure size 432x288 with 1 Axes>"
            ],
            "image/png": "[encoded data removed]"
          },
          "metadata": {
            "needs_background": "light"
          }
        }
      ]
    },
    {
      "cell_type": "code",
      "metadata": {
        "id": "sYT_5r7MkSry",
        "colab": {
          "base_uri": "https://localhost:8080/",
          "height": 315
        },
        "outputId": "3aa800e4-52ea-498e-ea92-62812394ddee"
      },
      "source": [
        "plt.bar(np.arange(0,n_state), m_state_prob)\n",
        "plt.bar(np.arange(0,n_state), r_state_prob)\n",
        "\n",
        "plt.legend()\n",
        "plt.xlabel('State')\n",
        "plt.ylabel('Average State Probability')"
      ],
      "execution_count": 14,
      "outputs": [
        {
          "output_type": "stream",
          "name": "stderr",
          "text": [
            "WARNING:matplotlib.legend:No handles with labels found to put in legend.\n"
          ]
        },
        {
          "output_type": "execute_result",
          "data": {
            "text/plain": [
              "Text(0, 0.5, 'Average State Probability')"
            ]
          },
          "metadata": {},
          "execution_count": 14
        },
        {
          "output_type": "display_data",
          "data": {
            "text/plain": [
              "<Figure size 432x288 with 1 Axes>"
            ],
            "image/png": "[encoded data removed]"
          },
          "metadata": {
            "needs_background": "light"
          }
        }
      ]
    },
    {
      "cell_type": "code",
      "metadata": {
        "id": "E0wTJZqmsx86",
        "colab": {
          "base_uri": "https://localhost:8080/"
        },
        "outputId": "1b77768d-b7d7-4953-ca8c-a88548e31845"
      },
      "source": [
        "print('Motivated Agent States Visited:', np.where(m_state_prob>0.1))\n",
        "print('Learning Agent States Visited:', np.where(r_state_prob>0.1))"
      ],
      "execution_count": 15,
      "outputs": [
        {
          "output_type": "stream",
          "name": "stdout",
          "text": [
            "Motivated Agent States Visited: (array([], dtype=int64),)\n",
            "Learning Agent States Visited: (array([], dtype=int64),)\n"
          ]
        }
      ]
    },
    {
      "cell_type": "code",
      "metadata": {
        "id": "bI0eiDTMHUzQ",
        "colab": {
          "base_uri": "https://localhost:8080/",
          "height": 331
        },
        "outputId": "60dba64d-a7a4-4cff-bafa-5c73c24f599e"
      },
      "source": [
        "plt.plot(m_q_val_matrix.T)\n",
        "# plt.plot(_q_val_matrix)\n",
        "\n",
        "plt.legend()\n",
        "plt.xlabel('Steps')\n",
        "plt.ylabel('Q Values')\n",
        "plt.title('Motivated Agent Q Values')"
      ],
      "execution_count": 16,
      "outputs": [
        {
          "output_type": "stream",
          "name": "stderr",
          "text": [
            "WARNING:matplotlib.legend:No handles with labels found to put in legend.\n"
          ]
        },
        {
          "output_type": "execute_result",
          "data": {
            "text/plain": [
              "Text(0.5, 1.0, 'Motivated Agent Q Values')"
            ]
          },
          "metadata": {},
          "execution_count": 16
        },
        {
          "output_type": "display_data",
          "data": {
            "text/plain": [
              "<Figure size 432x288 with 1 Axes>"
            ],
            "image/png": "[encoded data removed]"
          },
          "metadata": {
            "needs_background": "light"
          }
        }
      ]
    },
    {
      "cell_type": "code",
      "metadata": {
        "id": "Fqvz5-8vIqgF"
      },
      "source": [
        "x = np.argwhere(m_q_val_matrix > 0.2)\n",
        "unique_states = np.unique(x[:,0])"
      ],
      "execution_count": 17,
      "outputs": []
    },
    {
      "cell_type": "code",
      "metadata": {
        "id": "Nv_RoiutIrxo",
        "colab": {
          "base_uri": "https://localhost:8080/"
        },
        "outputId": "286780a9-252d-44f6-a164-63f12b405a14"
      },
      "source": [
        "unique_states"
      ],
      "execution_count": 18,
      "outputs": [
        {
          "output_type": "execute_result",
          "data": {
            "text/plain": [
              "array([ 3,  5,  6, 10, 29, 39, 41, 45, 46, 47])"
            ]
          },
          "metadata": {},
          "execution_count": 18
        }
      ]
    },
    {
      "cell_type": "code",
      "metadata": {
        "id": "iJxriV3I17zP",
        "colab": {
          "base_uri": "https://localhost:8080/",
          "height": 331
        },
        "outputId": "aea0249b-9bac-482f-9d5a-b99f0eba476c"
      },
      "source": [
        "plt.plot(r_q_val_matrix.T)\n",
        "# plt.plot(_q_val_matrix)\n",
        "\n",
        "plt.legend()\n",
        "plt.xlabel('Steps')\n",
        "plt.ylabel('Q Values')\n",
        "plt.title('Learning Agent Q Values')"
      ],
      "execution_count": 19,
      "outputs": [
        {
          "output_type": "stream",
          "name": "stderr",
          "text": [
            "WARNING:matplotlib.legend:No handles with labels found to put in legend.\n"
          ]
        },
        {
          "output_type": "execute_result",
          "data": {
            "text/plain": [
              "Text(0.5, 1.0, 'Learning Agent Q Values')"
            ]
          },
          "metadata": {},
          "execution_count": 19
        },
        {
          "output_type": "display_data",
          "data": {
            "text/plain": [
              "<Figure size 432x288 with 1 Axes>"
            ],
            "image/png": "[encoded data removed]"
          },
          "metadata": {
            "needs_background": "light"
          }
        }
      ]
    },
    {
      "cell_type": "code",
      "metadata": {
        "id": "qllNLWtlih6S",
        "colab": {
          "base_uri": "https://localhost:8080/"
        },
        "outputId": "a6c4327a-1f9a-4cc8-ad55-a467716454f1"
      },
      "source": [
        "x = np.argwhere(r_q_val_matrix > 0.2)\n",
        "unique_states = np.unique(x[:,0])\n",
        "unique_states"
      ],
      "execution_count": 20,
      "outputs": [
        {
          "output_type": "execute_result",
          "data": {
            "text/plain": [
              "array([], dtype=int64)"
            ]
          },
          "metadata": {},
          "execution_count": 20
        }
      ]
    },
    {
      "cell_type": "code",
      "source": [
        "plt.plot(np.arange(max_steps), [0] * max_steps, color=\"#FFD700\")\n",
        "plt.xlabel(\"Step\")\n",
        "plt.ylabel(\"Reward\")"
      ],
      "metadata": {
        "colab": {
          "base_uri": "https://localhost:8080/",
          "height": 297
        },
        "id": "7vExA1KRPdg6",
        "outputId": "56aa16ef-6ad2-4001-f787-8b65d353d513"
      },
      "execution_count": 21,
      "outputs": [
        {
          "output_type": "execute_result",
          "data": {
            "text/plain": [
              "Text(0, 0.5, 'Reward')"
            ]
          },
          "metadata": {},
          "execution_count": 21
        },
        {
          "output_type": "display_data",
          "data": {
            "text/plain": [
              "<Figure size 432x288 with 1 Axes>"
            ],
            "image/png": "[encoded data removed]"
          },
          "metadata": {
            "needs_background": "light"
          }
        }
      ]
    },
    {
      "cell_type": "code",
      "source": [],
      "metadata": {
        "id": "zbx_5kn4P2cU"
      },
      "execution_count": 21,
      "outputs": []
    }
  ]
}